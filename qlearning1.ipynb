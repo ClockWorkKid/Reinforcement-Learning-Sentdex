{
 "cells": [
  {
   "cell_type": "markdown",
   "id": "6f55b8b6",
   "metadata": {},
   "source": [
    "# Q-Learning on Mountain-Cart Environment"
   ]
  },
  {
   "cell_type": "code",
   "execution_count": 9,
   "id": "75564295",
   "metadata": {},
   "outputs": [],
   "source": [
    "import gym\n",
    "import numpy as np\n",
    "from tqdm import tqdm\n",
    "import matplotlib.pyplot as plt\n",
    "\n",
    "env = gym.make(\"MountainCar-v0\")"
   ]
  },
  {
   "cell_type": "code",
   "execution_count": 2,
   "id": "5c0b543e",
   "metadata": {},
   "outputs": [],
   "source": [
    "def get_discrete_state(state):\n",
    "    discrete_state = (state - env.observation_space.low) / discrete_os_win_size\n",
    "    return tuple(discrete_state.astype(np.int32))"
   ]
  },
  {
   "cell_type": "code",
   "execution_count": 11,
   "id": "b51a9781",
   "metadata": {},
   "outputs": [],
   "source": [
    "reward_history = np.zeros((20000, 10))\n",
    "\n",
    "\n",
    "# LEARNING_RATE = 0.1\n",
    "# DISCOUNT = 0.95\n",
    "# EPISODES = 20000\n",
    "# epsilon = 0\n",
    "# epsilon = 0.1\n"
   ]
  },
  {
   "cell_type": "code",
   "execution_count": 34,
   "id": "6a7fbd8a",
   "metadata": {},
   "outputs": [
    {
     "name": "stderr",
     "output_type": "stream",
     "text": [
      "100%|██████████| 20000/20000 [02:32<00:00, 131.44it/s]\n"
     ]
    }
   ],
   "source": [
    "exp_no = 0\n",
    "\n",
    "LEARNING_RATE = 0.1\n",
    "DISCOUNT = 0.9\n",
    "EPISODES = 20000\n",
    "epsilon = 0\n",
    "\n",
    "START_EPSILON_DECAYING = 1\n",
    "END_EPSILON_DECAYING = EPISODES // 2\n",
    "epsilon_decay_value = epsilon/(END_EPSILON_DECAYING-START_EPSILON_DECAYING)\n",
    "\n",
    "\n",
    "DISCRETE_OS_SIZE = [20] * len(env.observation_space.high)\n",
    "discrete_os_win_size = (env.observation_space.high - env.observation_space.low)/DISCRETE_OS_SIZE\n",
    "\n",
    "\n",
    "q_table = np.random.uniform(low=-2, high=0, size=(DISCRETE_OS_SIZE + [env.action_space.n]))\n",
    "\n",
    "for episode in tqdm(range(EPISODES)):\n",
    "    episode_reward = 0\n",
    "    \n",
    "#     if episode % SHOW_EVERY == 0:\n",
    "#         print(episode)\n",
    "#         render = True\n",
    "#     else:\n",
    "#         render = False\n",
    "\n",
    "    discrete_state = get_discrete_state(env.reset())\n",
    "    done = False\n",
    "    while not done:\n",
    "        if np.random.random() > epsilon:\n",
    "            action = np.argmax(q_table[discrete_state])\n",
    "        else:\n",
    "            action = np.random.randint(0, env.action_space.n)\n",
    "        new_state, reward, done, _ = env.step(action)\n",
    "        episode_reward += reward\n",
    "        new_discrete_state = get_discrete_state(new_state)\n",
    "#         if render:\n",
    "#             env.render()\n",
    "        if not done:\n",
    "            max_future_q = np.max(q_table[new_discrete_state])\n",
    "            current_q = q_table[discrete_state + (action, )]\n",
    "            new_q = (1-LEARNING_RATE) * current_q + LEARNING_RATE * (reward + DISCOUNT*max_future_q)\n",
    "            q_table[discrete_state+(action, )] = new_q\n",
    "        elif new_state[0] >= env.goal_position:\n",
    "            q_table[discrete_state + (action, )] = 0\n",
    "\n",
    "        discrete_state = new_discrete_state\n",
    "\n",
    "    if END_EPSILON_DECAYING >= episode >= START_EPSILON_DECAYING:\n",
    "        epsilon -= epsilon_decay_value\n",
    "    \n",
    "    reward_history[episode, exp_no] = episode_reward\n",
    "\n",
    "env.close()"
   ]
  },
  {
   "cell_type": "code",
   "execution_count": 35,
   "id": "2c5abda3",
   "metadata": {},
   "outputs": [
    {
     "data": {
      "image/png": "[encoded data removed]",
      "text/plain": [
       "<Figure size 432x288 with 1 Axes>"
      ]
     },
     "metadata": {
      "needs_background": "light"
     },
     "output_type": "display_data"
    }
   ],
   "source": [
    "plt.plot(reward_history[:, 0])\n",
    "plt.show()"
   ]
  }
 ],
 "metadata": {
  "kernelspec": {
   "display_name": "Python 3",
   "language": "python",
   "name": "python3"
  },
  "language_info": {
   "codemirror_mode": {
    "name": "ipython",
    "version": 3
   },
   "file_extension": ".py",
   "mimetype": "text/x-python",
   "name": "python",
   "nbconvert_exporter": "python",
   "pygments_lexer": "ipython3",
   "version": "3.7.10"
  }
 },
 "nbformat": 4,
 "nbformat_minor": 5
}
